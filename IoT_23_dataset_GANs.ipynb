{
  "nbformat": 4,
  "nbformat_minor": 0,
  "metadata": {
    "colab": {
      "name": "IoT_23_dataset_GANs.ipynb",
      "provenance": [],
      "collapsed_sections": [],
      "authorship_tag": "ABX9TyMKPe55DWycqzAT0wbqhxqR",
      "include_colab_link": true
    },
    "kernelspec": {
      "name": "python3",
      "display_name": "Python 3"
    },
    "language_info": {
      "name": "python"
    }
  },
  "cells": [
    {
      "cell_type": "markdown",
      "metadata": {
        "id": "view-in-github",
        "colab_type": "text"
      },
      "source": [
        "<a href=\"https://colab.research.google.com/github/kpahwa16/Gans_IoT_23_zero_day_attack/blob/main/IoT_23_dataset_GANs.ipynb\" target=\"_parent\"><img src=\"https://colab.research.google.com/assets/colab-badge.svg\" alt=\"Open In Colab\"/></a>"
      ]
    },
    {
      "cell_type": "markdown",
      "metadata": {
        "id": "v3655byzvJ_h"
      },
      "source": [
        "# Mounting Drive for uploading the IoT-23 dataset "
      ]
    },
    {
      "cell_type": "code",
      "metadata": {
        "id": "Yzdbg9hZwwus"
      },
      "source": [
        "import pandas as pd\n",
        "import os\n",
        "import numpy as np\n",
        "import matplotlib.pyplot as plt"
      ],
      "execution_count": null,
      "outputs": []
    },
    {
      "cell_type": "code",
      "metadata": {
        "colab": {
          "base_uri": "https://localhost:8080/"
        },
        "id": "JJRpXu7msQ7J",
        "outputId": "abf12103-a443-4f59-f053-8cb626f15516"
      },
      "source": [
        "from google.colab import drive\n",
        "drive.mount(\"/content/drive\")"
      ],
      "execution_count": null,
      "outputs": [
        {
          "output_type": "stream",
          "text": [
            "Mounted at /content/drive\n"
          ],
          "name": "stdout"
        }
      ]
    },
    {
      "cell_type": "code",
      "metadata": {
        "id": "ddD7QuF3sgHl"
      },
      "source": [
        "dir = \"/content/drive/MyDrive/IoT_23_DATASET/opt 2/Malware-Project/BigDataset/IoTScenarios/IoTScenarios/\"\n",
        "\n",
        "\n"
      ],
      "execution_count": 61,
      "outputs": []
    },
    {
      "cell_type": "code",
      "metadata": {
        "colab": {
          "base_uri": "https://localhost:8080/"
        },
        "id": "wkzkgrc5s7BD",
        "outputId": "1a099a3a-d5a6-47df-fe09-270ae1b60153"
      },
      "source": [
        "import os\n",
        "\n",
        "df = pd.DataFrame()\n",
        "filenames_list = []\n",
        "labeled_files_list = []\n",
        "for filenames in os.listdir(dir):\n",
        "  filenames_list.append(filenames)\n",
        "  for files in os.listdir(dir + filenames):\n",
        "    if files.endswith(\"bro\"):\n",
        "      for labeled_files in os.listdir((dir + filenames+ \"/\" + \"bro\") or (dir + filenames + \"/\" + \"Somfy-01\" + \"/\" + \"bro\")):\n",
        "        print(labeled_files)\n",
        "        labeled_files_list.append(dir + filenames + \"/\" + \"bro\" + \"/\" + labeled_files or dir + filenames + \"/\" + \"Somfy-01\" + \"/\" + \"bro\" + \"/\" + labeled_files) \n",
        "  \n",
        "\n",
        "\n"
      ],
      "execution_count": 59,
      "outputs": [
        {
          "output_type": "stream",
          "text": [
            "conn.log.labeled\n",
            "conn.log.labeled\n",
            "conn.log.labeled\n",
            "conn.log.labeled\n",
            "conn.log.labeled\n",
            "conn.log.labeled\n",
            "conn.log.labeled\n",
            "conn.log.labeled\n",
            "conn.log.labeled\n",
            "conn.log.labeled\n",
            "conn.log.labeled\n",
            "conn.log.labeled\n",
            "conn.log.labeled\n",
            "conn.log.labeled\n",
            "conn.log.labeled\n",
            "conn.log.labeled\n",
            "conn.log.labeled\n",
            "conn.log.labeled\n",
            "conn.log.labeled\n",
            "conn.log.labeled\n",
            "conn.log.labeled\n",
            "conn.log.labeled\n"
          ],
          "name": "stdout"
        }
      ]
    },
    {
      "cell_type": "code",
      "metadata": {
        "colab": {
          "base_uri": "https://localhost:8080/"
        },
        "id": "Saj4Szr21ask",
        "outputId": "6c0eafd5-d4d6-44be-b48a-52b30c6146d8"
      },
      "source": [
        "\n",
        "\n",
        "# for files in labeled_files_list:\n",
        "#   print(str(files).split(\"/\")[10].split(\"-\")[1])\n",
        "\n",
        "labeled_files_list = [item for item in labeled_files_list if str(item).split(\"/\")[10].split(\"-\")[1] == \"IoT\"]\n",
        "\n",
        "\n",
        "\n",
        "for item in labeled_files_list:\n",
        "  print(str(item).split(\"/\")[10].split(\"-\")[4])"
      ],
      "execution_count": 87,
      "outputs": [
        {
          "output_type": "stream",
          "text": [
            "3\n",
            "42\n",
            "7\n",
            "9\n",
            "39\n",
            "33\n",
            "52\n",
            "48\n",
            "20\n",
            "21\n",
            "1\n",
            "35\n",
            "60\n",
            "8\n",
            "34\n",
            "44\n",
            "43\n",
            "36\n",
            "17\n",
            "49\n"
          ],
          "name": "stdout"
        }
      ]
    },
    {
      "cell_type": "code",
      "metadata": {
        "colab": {
          "base_uri": "https://localhost:8080/"
        },
        "id": "RzHd_Rk2z1K4",
        "outputId": "8b891545-743b-4343-f9aa-522527af2af5"
      },
      "source": [
        "print(labeled_files_list)"
      ],
      "execution_count": 83,
      "outputs": [
        {
          "output_type": "stream",
          "text": [
            "['/content/drive/MyDrive/IoT_23_DATASET/opt 2/Malware-Project/BigDataset/IoTScenarios/IoTScenarios/CTU-IoT-Malware-Capture-3-1/bro/conn.log.labeled', '/content/drive/MyDrive/IoT_23_DATASET/opt 2/Malware-Project/BigDataset/IoTScenarios/IoTScenarios/CTU-IoT-Malware-Capture-42-1/bro/conn.log.labeled', '/content/drive/MyDrive/IoT_23_DATASET/opt 2/Malware-Project/BigDataset/IoTScenarios/IoTScenarios/CTU-IoT-Malware-Capture-7-1/bro/conn.log.labeled', '/content/drive/MyDrive/IoT_23_DATASET/opt 2/Malware-Project/BigDataset/IoTScenarios/IoTScenarios/CTU-IoT-Malware-Capture-9-1/bro/conn.log.labeled', '/content/drive/MyDrive/IoT_23_DATASET/opt 2/Malware-Project/BigDataset/IoTScenarios/IoTScenarios/CTU-IoT-Malware-Capture-39-1/bro/conn.log.labeled', '/content/drive/MyDrive/IoT_23_DATASET/opt 2/Malware-Project/BigDataset/IoTScenarios/IoTScenarios/CTU-IoT-Malware-Capture-33-1/bro/conn.log.labeled', '/content/drive/MyDrive/IoT_23_DATASET/opt 2/Malware-Project/BigDataset/IoTScenarios/IoTScenarios/CTU-IoT-Malware-Capture-52-1/bro/conn.log.labeled', '/content/drive/MyDrive/IoT_23_DATASET/opt 2/Malware-Project/BigDataset/IoTScenarios/IoTScenarios/CTU-IoT-Malware-Capture-48-1/bro/conn.log.labeled', '/content/drive/MyDrive/IoT_23_DATASET/opt 2/Malware-Project/BigDataset/IoTScenarios/IoTScenarios/CTU-IoT-Malware-Capture-20-1/bro/conn.log.labeled', '/content/drive/MyDrive/IoT_23_DATASET/opt 2/Malware-Project/BigDataset/IoTScenarios/IoTScenarios/CTU-IoT-Malware-Capture-21-1/bro/conn.log.labeled', '/content/drive/MyDrive/IoT_23_DATASET/opt 2/Malware-Project/BigDataset/IoTScenarios/IoTScenarios/CTU-IoT-Malware-Capture-1-1/bro/conn.log.labeled', '/content/drive/MyDrive/IoT_23_DATASET/opt 2/Malware-Project/BigDataset/IoTScenarios/IoTScenarios/CTU-IoT-Malware-Capture-35-1/bro/conn.log.labeled', '/content/drive/MyDrive/IoT_23_DATASET/opt 2/Malware-Project/BigDataset/IoTScenarios/IoTScenarios/CTU-IoT-Malware-Capture-60-1/bro/conn.log.labeled', '/content/drive/MyDrive/IoT_23_DATASET/opt 2/Malware-Project/BigDataset/IoTScenarios/IoTScenarios/CTU-IoT-Malware-Capture-8-1/bro/conn.log.labeled', '/content/drive/MyDrive/IoT_23_DATASET/opt 2/Malware-Project/BigDataset/IoTScenarios/IoTScenarios/CTU-IoT-Malware-Capture-34-1/bro/conn.log.labeled', '/content/drive/MyDrive/IoT_23_DATASET/opt 2/Malware-Project/BigDataset/IoTScenarios/IoTScenarios/CTU-IoT-Malware-Capture-44-1/bro/conn.log.labeled', '/content/drive/MyDrive/IoT_23_DATASET/opt 2/Malware-Project/BigDataset/IoTScenarios/IoTScenarios/CTU-IoT-Malware-Capture-43-1/bro/conn.log.labeled', '/content/drive/MyDrive/IoT_23_DATASET/opt 2/Malware-Project/BigDataset/IoTScenarios/IoTScenarios/CTU-IoT-Malware-Capture-36-1/bro/conn.log.labeled', '/content/drive/MyDrive/IoT_23_DATASET/opt 2/Malware-Project/BigDataset/IoTScenarios/IoTScenarios/CTU-IoT-Malware-Capture-17-1/bro/conn.log.labeled', '/content/drive/MyDrive/IoT_23_DATASET/opt 2/Malware-Project/BigDataset/IoTScenarios/IoTScenarios/CTU-IoT-Malware-Capture-49-1/bro/conn.log.labeled']\n"
          ],
          "name": "stdout"
        }
      ]
    },
    {
      "cell_type": "markdown",
      "metadata": {
        "id": "72I5IB97vE6a"
      },
      "source": [
        "# Structuring the data and Framing columns "
      ]
    },
    {
      "cell_type": "code",
      "metadata": {
        "colab": {
          "base_uri": "https://localhost:8080/"
        },
        "id": "M3O3zFwLvnbZ",
        "outputId": "c604e1db-f104-4f8b-a606-98b33881970d"
      },
      "source": [
        "list_dataframe = []\n",
        "for i in range(len(labeled_files_list)):\n",
        "  filename = (str(labeled_files_list[i]).split(\"/\")[10].split(\"-\")[4])\n",
        "  file_path = labeled_files_list[i]\n",
        "  print(file_path)\n",
        "  print(filename)\n",
        "  globals()[f\"df_{filename}\"] = pd.read_table(filepath_or_buffer=file_path, skiprows=10, nrows=100000)\n",
        "  globals()[f\"df_{filename}\"].to_csv(\"/content/drive/MyDrive/IoT_23_DATASET/csv_files/\" + \"df_\"+ filename, index = False)"
      ],
      "execution_count": 102,
      "outputs": [
        {
          "output_type": "stream",
          "text": [
            "/content/drive/MyDrive/IoT_23_DATASET/opt 2/Malware-Project/BigDataset/IoTScenarios/IoTScenarios/CTU-IoT-Malware-Capture-3-1/bro/conn.log.labeled\n",
            "3\n",
            "/content/drive/MyDrive/IoT_23_DATASET/opt 2/Malware-Project/BigDataset/IoTScenarios/IoTScenarios/CTU-IoT-Malware-Capture-42-1/bro/conn.log.labeled\n",
            "42\n",
            "/content/drive/MyDrive/IoT_23_DATASET/opt 2/Malware-Project/BigDataset/IoTScenarios/IoTScenarios/CTU-IoT-Malware-Capture-7-1/bro/conn.log.labeled\n",
            "7\n",
            "/content/drive/MyDrive/IoT_23_DATASET/opt 2/Malware-Project/BigDataset/IoTScenarios/IoTScenarios/CTU-IoT-Malware-Capture-9-1/bro/conn.log.labeled\n",
            "9\n",
            "/content/drive/MyDrive/IoT_23_DATASET/opt 2/Malware-Project/BigDataset/IoTScenarios/IoTScenarios/CTU-IoT-Malware-Capture-39-1/bro/conn.log.labeled\n",
            "39\n",
            "/content/drive/MyDrive/IoT_23_DATASET/opt 2/Malware-Project/BigDataset/IoTScenarios/IoTScenarios/CTU-IoT-Malware-Capture-33-1/bro/conn.log.labeled\n",
            "33\n",
            "/content/drive/MyDrive/IoT_23_DATASET/opt 2/Malware-Project/BigDataset/IoTScenarios/IoTScenarios/CTU-IoT-Malware-Capture-52-1/bro/conn.log.labeled\n",
            "52\n",
            "/content/drive/MyDrive/IoT_23_DATASET/opt 2/Malware-Project/BigDataset/IoTScenarios/IoTScenarios/CTU-IoT-Malware-Capture-48-1/bro/conn.log.labeled\n",
            "48\n",
            "/content/drive/MyDrive/IoT_23_DATASET/opt 2/Malware-Project/BigDataset/IoTScenarios/IoTScenarios/CTU-IoT-Malware-Capture-20-1/bro/conn.log.labeled\n",
            "20\n",
            "/content/drive/MyDrive/IoT_23_DATASET/opt 2/Malware-Project/BigDataset/IoTScenarios/IoTScenarios/CTU-IoT-Malware-Capture-21-1/bro/conn.log.labeled\n",
            "21\n",
            "/content/drive/MyDrive/IoT_23_DATASET/opt 2/Malware-Project/BigDataset/IoTScenarios/IoTScenarios/CTU-IoT-Malware-Capture-1-1/bro/conn.log.labeled\n",
            "1\n",
            "/content/drive/MyDrive/IoT_23_DATASET/opt 2/Malware-Project/BigDataset/IoTScenarios/IoTScenarios/CTU-IoT-Malware-Capture-35-1/bro/conn.log.labeled\n",
            "35\n",
            "/content/drive/MyDrive/IoT_23_DATASET/opt 2/Malware-Project/BigDataset/IoTScenarios/IoTScenarios/CTU-IoT-Malware-Capture-60-1/bro/conn.log.labeled\n",
            "60\n",
            "/content/drive/MyDrive/IoT_23_DATASET/opt 2/Malware-Project/BigDataset/IoTScenarios/IoTScenarios/CTU-IoT-Malware-Capture-8-1/bro/conn.log.labeled\n",
            "8\n",
            "/content/drive/MyDrive/IoT_23_DATASET/opt 2/Malware-Project/BigDataset/IoTScenarios/IoTScenarios/CTU-IoT-Malware-Capture-34-1/bro/conn.log.labeled\n",
            "34\n",
            "/content/drive/MyDrive/IoT_23_DATASET/opt 2/Malware-Project/BigDataset/IoTScenarios/IoTScenarios/CTU-IoT-Malware-Capture-44-1/bro/conn.log.labeled\n",
            "44\n",
            "/content/drive/MyDrive/IoT_23_DATASET/opt 2/Malware-Project/BigDataset/IoTScenarios/IoTScenarios/CTU-IoT-Malware-Capture-43-1/bro/conn.log.labeled\n",
            "43\n",
            "/content/drive/MyDrive/IoT_23_DATASET/opt 2/Malware-Project/BigDataset/IoTScenarios/IoTScenarios/CTU-IoT-Malware-Capture-36-1/bro/conn.log.labeled\n",
            "36\n",
            "/content/drive/MyDrive/IoT_23_DATASET/opt 2/Malware-Project/BigDataset/IoTScenarios/IoTScenarios/CTU-IoT-Malware-Capture-17-1/bro/conn.log.labeled\n",
            "17\n",
            "/content/drive/MyDrive/IoT_23_DATASET/opt 2/Malware-Project/BigDataset/IoTScenarios/IoTScenarios/CTU-IoT-Malware-Capture-49-1/bro/conn.log.labeled\n",
            "49\n"
          ],
          "name": "stdout"
        }
      ]
    },
    {
      "cell_type": "code",
      "metadata": {
        "colab": {
          "base_uri": "https://localhost:8080/"
        },
        "id": "k3pDr5sp7lXT",
        "outputId": "9cc3e15d-f7c5-46a3-d2f1-45ea2ba4e251"
      },
      "source": [
        "dir = \"/content/drive/MyDrive/IoT_23_DATASET/csv_files/\"\n",
        "\n",
        "for files in os.listdir(dir):\n",
        "  print(files)\n",
        "  if files.startswith(\"df\"):\n",
        "    globals()[f\"{files}\"]  = pd.read_csv(dir + files)\n",
        "    globals()[f\"{files}\"].columns = ['ts',\n",
        "              'uid',\n",
        "              'id.orig_h',\n",
        "              'id.orig_p',\n",
        "              'id.resp_h',\n",
        "              'id.resp_p',\n",
        "              'proto',\n",
        "              'service',\n",
        "              'duration',\n",
        "              'orig_bytes',\n",
        "              'resp_bytes',\n",
        "              'conn_state',\n",
        "              'local_orig',\n",
        "              'local_resp',\n",
        "              'missed_bytes',\n",
        "              'history',\n",
        "              'orig_pkts',\n",
        "              'orig_ip_bytes',\n",
        "              'resp_pkts',\n",
        "              'resp_ip_bytes',\n",
        "              'label']\n",
        "    globals()[f\"{files}\"].drop(globals()[f\"{files}\"].tail(1).index,inplace=True)\n",
        "    "
      ],
      "execution_count": 21,
      "outputs": [
        {
          "output_type": "stream",
          "text": [
            "df_3\n",
            "df_42\n",
            "df_7\n",
            "df_9\n",
            "df_39\n",
            "df_33\n",
            "df_52\n",
            "df_48\n",
            "df_20\n",
            "df_21\n",
            "df_1\n",
            "df_35\n",
            "df_60\n",
            "df_8\n",
            "df_34\n",
            "df_44\n",
            "df_43\n",
            "df_36\n",
            "df_17\n",
            "df_49\n",
            ".ipynb_checkpoints\n"
          ],
          "name": "stdout"
        }
      ]
    },
    {
      "cell_type": "code",
      "metadata": {
        "id": "r5kb-Zoo8Bt_"
      },
      "source": [
        "frames=[df_1, df_17, df_20, df_21, df_3, df_33, df_34, df_35, df_36, df_39, df_42, df_43, df_44, df_48, df_49, df_52, df_60, df_7, df_8, df_9]"
      ],
      "execution_count": 24,
      "outputs": []
    },
    {
      "cell_type": "code",
      "metadata": {
        "id": "ELTS-N3L_Po_"
      },
      "source": [
        "df_merge =pd.concat(frames)"
      ],
      "execution_count": 25,
      "outputs": []
    },
    {
      "cell_type": "code",
      "metadata": {
        "colab": {
          "base_uri": "https://localhost:8080/"
        },
        "id": "bQJ1lkkk_UDg",
        "outputId": "516c7636-3a1b-470a-b3d4-23d730d01162"
      },
      "source": [
        "df_merge['label'].value_counts()"
      ],
      "execution_count": 26,
      "outputs": [
        {
          "output_type": "execute_result",
          "data": {
            "text/plain": [
              "-   Malicious   PartOfAHorizontalPortScan          578916\n",
              "(empty)   Malicious   PartOfAHorizontalPortScan    247023\n",
              "-   Malicious   Okiru                              163016\n",
              "-   Benign   -                                     146275\n",
              "-   Malicious   DDoS                               138777\n",
              "(empty)   Malicious   Okiru                         99674\n",
              "(empty)   Benign   -                                51534\n",
              "(empty)   Malicious   C&C                            8229\n",
              "-   Malicious   C&C                                  6871\n",
              "(empty)   Malicious   Attack                         3814\n",
              "-   Malicious   C&C-HeartBeat                         227\n",
              "(empty)   Malicious   C&C-HeartBeat                   122\n",
              "-   Malicious   Attack                                101\n",
              "-   Malicious   C&C-FileDownload                       43\n",
              "-   Malicious   C&C-Torii                              30\n",
              "-   Malicious   FileDownload                           13\n",
              "-   Malicious   C&C-HeartBeat-FileDownload              8\n",
              "-   Malicious   C&C-Mirai                               1\n",
              "Name: label, dtype: int64"
            ]
          },
          "metadata": {
            "tags": []
          },
          "execution_count": 26
        }
      ]
    },
    {
      "cell_type": "code",
      "metadata": {
        "id": "CqHp77Ph_b9v"
      },
      "source": [
        "df_merge.loc[(df_merge.label == '-   Malicious   PartOfAHorizontalPortScan'), 'label'] = 'PartOfAHorizontalPortScan'\n",
        "df_merge.loc[(df_merge.label == '(empty)   Malicious   PartOfAHorizontalPortScan'), 'label'] = 'PartOfAHorizontalPortScan'\n",
        "df_merge.loc[(df_merge.label == '-   Malicious   Okiru'), 'label'] = 'Okiru'\n",
        "df_merge.loc[(df_merge.label == '(empty)   Malicious   Okiru'), 'label'] = 'Okiru'\n",
        "df_merge.loc[(df_merge.label == '-   Benign   -'), 'label'] = 'Benign'\n",
        "df_merge.loc[(df_merge.label == '(empty)   Benign   -'), 'label'] = 'Benign'\n",
        "df_merge.loc[(df_merge.label == '-   Malicious   DDoS'), 'label'] = 'DDoS'\n",
        "df_merge.loc[(df_merge.label == '-   Malicious   C&C'), 'label'] = 'C&C'\n",
        "df_merge.loc[(df_merge.label == '(empty)   Malicious   C&C'), 'label'] = 'C&C'\n",
        "df_merge.loc[(df_merge.label == '-   Malicious   Attack'), 'label'] = 'Attack'\n",
        "df_merge.loc[(df_merge.label == '(empty)   Malicious   Attack'), 'label'] = 'Attack'\n",
        "df_merge.loc[(df_merge.label == '-   Malicious   C&C-HeartBeat'), 'label'] = 'C&C-HeartBeat'\n",
        "df_merge.loc[(df_merge.label == '(empty)   Malicious   C&C-HeartBeat'), 'label'] = 'C&C-HeartBeat'\n",
        "df_merge.loc[(df_merge.label == '-   Malicious   C&C-FileDownload'), 'label'] = 'C&C-FileDownload'\n",
        "df_merge.loc[(df_merge.label == '-   Malicious   C&C-Torii'), 'label'] = 'C&C-Torii'\n",
        "df_merge.loc[(df_merge.label == '-   Malicious   C&C-HeartBeat-FileDownload'), 'label'] = 'C&C-HeartBeat-FileDownload'\n",
        "df_merge.loc[(df_merge.label == '-   Malicious   FileDownload'), 'label'] = 'FileDownload'\n",
        "df_merge.loc[(df_merge.label == '-   Malicious   C&C-Mirai'), 'label'] = 'C&C-Mirai'\n",
        "df_merge.loc[(df_merge.label == '-   Malicious   Okiru-Attack'), 'label'] = 'Okiru-Attack'"
      ],
      "execution_count": 28,
      "outputs": []
    },
    {
      "cell_type": "code",
      "metadata": {
        "id": "qDFupmwbBDUO"
      },
      "source": [
        "attacks_list = df_merge[\"label\"].unique()"
      ],
      "execution_count": 48,
      "outputs": []
    },
    {
      "cell_type": "code",
      "metadata": {
        "colab": {
          "base_uri": "https://localhost:8080/"
        },
        "id": "7tWRaqpBCPG5",
        "outputId": "e07b087d-10fc-41df-e8a1-c6c94a40d875"
      },
      "source": [
        "print(attacks_list)"
      ],
      "execution_count": 49,
      "outputs": [
        {
          "output_type": "stream",
          "text": [
            "['PartOfAHorizontalPortScan' 'Benign' 'Okiru' 'DDoS' 'C&C-HeartBeat'\n",
            " 'C&C-Torii' 'C&C' 'Attack' 'C&C-FileDownload' 'FileDownload'\n",
            " 'C&C-HeartBeat-FileDownload' 'C&C-Mirai']\n"
          ],
          "name": "stdout"
        }
      ]
    },
    {
      "cell_type": "code",
      "metadata": {
        "colab": {
          "base_uri": "https://localhost:8080/"
        },
        "id": "SDLLFV0wCVF8",
        "outputId": "4dceb1ce-c75a-489c-df7b-4a74eba6cfe0"
      },
      "source": [
        "print(len(df_merge[\"label\"].value_counts()))"
      ],
      "execution_count": 51,
      "outputs": [
        {
          "output_type": "stream",
          "text": [
            "12\n"
          ],
          "name": "stdout"
        }
      ]
    },
    {
      "cell_type": "code",
      "metadata": {
        "colab": {
          "base_uri": "https://localhost:8080/",
          "height": 402
        },
        "id": "zYBv3ZXEChaK",
        "outputId": "c8647d8a-8910-4d9d-d590-64f940b984bc"
      },
      "source": [
        "df_merge['label'].value_counts().plot(kind='bar')\n",
        "plt.show()"
      ],
      "execution_count": 53,
      "outputs": [
        {
          "output_type": "display_data",
          "data": {
            "image/png": "[encoded data removed]",
            "text/plain": [
              "<Figure size 432x288 with 1 Axes>"
            ]
          },
          "metadata": {
            "tags": [],
            "needs_background": "light"
          }
        }
      ]
    }
  ]
}